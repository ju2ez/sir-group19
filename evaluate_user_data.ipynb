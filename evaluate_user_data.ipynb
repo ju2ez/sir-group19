{
 "cells": [
  {
   "cell_type": "code",
   "execution_count": 15,
   "id": "9f85eb03-2eb0-44ce-8cdf-76fa4f733552",
   "metadata": {},
   "outputs": [],
   "source": [
    "import pandas as pd\n",
    "from datetime import date"
   ]
  },
  {
   "cell_type": "code",
   "execution_count": 151,
   "id": "09cf2cc4-8223-4bfe-b084-12ab857dc172",
   "metadata": {},
   "outputs": [],
   "source": [
    "df_user_data = pd.read_csv('data/user_data.csv')"
   ]
  },
  {
   "cell_type": "code",
   "execution_count": 152,
   "id": "d294f7cd-8858-4e8b-bff5-8b4030cba97f",
   "metadata": {},
   "outputs": [
    {
     "data": {
      "text/html": [
       "<div>\n",
       "<style scoped>\n",
       "    .dataframe tbody tr th:only-of-type {\n",
       "        vertical-align: middle;\n",
       "    }\n",
       "\n",
       "    .dataframe tbody tr th {\n",
       "        vertical-align: top;\n",
       "    }\n",
       "\n",
       "    .dataframe thead th {\n",
       "        text-align: right;\n",
       "    }\n",
       "</style>\n",
       "<table border=\"1\" class=\"dataframe\">\n",
       "  <thead>\n",
       "    <tr style=\"text-align: right;\">\n",
       "      <th></th>\n",
       "      <th>name</th>\n",
       "      <th>age</th>\n",
       "      <th>weight</th>\n",
       "      <th>height</th>\n",
       "      <th>Date</th>\n",
       "    </tr>\n",
       "  </thead>\n",
       "  <tbody>\n",
       "    <tr>\n",
       "      <th>0</th>\n",
       "      <td>Julian</td>\n",
       "      <td>10</td>\n",
       "      <td>60</td>\n",
       "      <td>160</td>\n",
       "      <td>2021-11-26</td>\n",
       "    </tr>\n",
       "    <tr>\n",
       "      <th>1</th>\n",
       "      <td>Max</td>\n",
       "      <td>12</td>\n",
       "      <td>20</td>\n",
       "      <td>150</td>\n",
       "      <td>2021-11-26</td>\n",
       "    </tr>\n",
       "  </tbody>\n",
       "</table>\n",
       "</div>"
      ],
      "text/plain": [
       "     name  age  weight  height        Date\n",
       "0  Julian   10      60     160  2021-11-26\n",
       "1     Max   12      20     150  2021-11-26"
      ]
     },
     "execution_count": 152,
     "metadata": {},
     "output_type": "execute_result"
    }
   ],
   "source": [
    "df_user_data"
   ]
  },
  {
   "cell_type": "code",
   "execution_count": 153,
   "id": "999c2d9b-0667-4b77-b682-4eb642968529",
   "metadata": {},
   "outputs": [
    {
     "data": {
      "text/plain": [
       "False"
      ]
     },
     "execution_count": 153,
     "metadata": {},
     "output_type": "execute_result"
    }
   ],
   "source": [
    "'Julian' in df_user_data.name"
   ]
  },
  {
   "cell_type": "code",
   "execution_count": 154,
   "id": "a954d78a-0784-4ce4-8f53-c6decaee738f",
   "metadata": {},
   "outputs": [],
   "source": [
    "df_user_data = df_user_data.append(pd.DataFrame(user_2, index=[date.today()]))"
   ]
  },
  {
   "cell_type": "code",
   "execution_count": 155,
   "id": "9fb15408-78a3-4644-a86e-da4952a6db40",
   "metadata": {},
   "outputs": [
    {
     "data": {
      "text/plain": [
       "array([['Julian', 10, 60, 160, '2021-11-26']], dtype=object)"
      ]
     },
     "execution_count": 155,
     "metadata": {},
     "output_type": "execute_result"
    }
   ],
   "source": [
    "df_user_data.loc[df_user_data['age'] == 10].values"
   ]
  },
  {
   "cell_type": "code",
   "execution_count": 156,
   "id": "66214323-2279-40df-85d0-0d90a642bf79",
   "metadata": {},
   "outputs": [
    {
     "data": {
      "text/plain": [
       "True"
      ]
     },
     "execution_count": 156,
     "metadata": {},
     "output_type": "execute_result"
    }
   ],
   "source": [
    "'Julian' in df_user_data.values "
   ]
  },
  {
   "cell_type": "code",
   "execution_count": 157,
   "id": "46caeed3-36c7-45b8-a4f4-ccd9c1412baa",
   "metadata": {},
   "outputs": [
    {
     "name": "stdout",
     "output_type": "stream",
     "text": [
      "awesome!\n"
     ]
    }
   ],
   "source": [
    "if 'Julian' in df_user_data.loc[df_user_data['age'] == 10].values : \n",
    "    print('awesome!')\n",
    "else:\n",
    "    print('damn')"
   ]
  },
  {
   "cell_type": "code",
   "execution_count": 150,
   "id": "2b7e2959-d0cd-4fcb-8863-cb50c91df38b",
   "metadata": {},
   "outputs": [],
   "source": [
    "df_user_data.to_csv('data/user_data.csv', index=None)"
   ]
  },
  {
   "cell_type": "code",
   "execution_count": 143,
   "id": "146f0455-a83b-4db1-9bc8-a1ae81cfbaa7",
   "metadata": {},
   "outputs": [
    {
     "data": {
      "text/html": [
       "<div>\n",
       "<style scoped>\n",
       "    .dataframe tbody tr th:only-of-type {\n",
       "        vertical-align: middle;\n",
       "    }\n",
       "\n",
       "    .dataframe tbody tr th {\n",
       "        vertical-align: top;\n",
       "    }\n",
       "\n",
       "    .dataframe thead th {\n",
       "        text-align: right;\n",
       "    }\n",
       "</style>\n",
       "<table border=\"1\" class=\"dataframe\">\n",
       "  <thead>\n",
       "    <tr style=\"text-align: right;\">\n",
       "      <th></th>\n",
       "      <th>Date</th>\n",
       "      <th>name</th>\n",
       "      <th>age</th>\n",
       "      <th>weight</th>\n",
       "      <th>height</th>\n",
       "    </tr>\n",
       "  </thead>\n",
       "  <tbody>\n",
       "    <tr>\n",
       "      <th>0</th>\n",
       "      <td>0</td>\n",
       "      <td>Julian</td>\n",
       "      <td>10</td>\n",
       "      <td>60</td>\n",
       "      <td>160</td>\n",
       "    </tr>\n",
       "    <tr>\n",
       "      <th>1</th>\n",
       "      <td>1</td>\n",
       "      <td>Max</td>\n",
       "      <td>12</td>\n",
       "      <td>20</td>\n",
       "      <td>150</td>\n",
       "    </tr>\n",
       "  </tbody>\n",
       "</table>\n",
       "</div>"
      ],
      "text/plain": [
       "   Date    name  age  weight  height\n",
       "0     0  Julian   10      60     160\n",
       "1     1     Max   12      20     150"
      ]
     },
     "execution_count": 143,
     "metadata": {},
     "output_type": "execute_result"
    }
   ],
   "source": []
  },
  {
   "cell_type": "code",
   "execution_count": null,
   "id": "440bdbe6-4983-4c64-a88d-2467c5a7b8c4",
   "metadata": {},
   "outputs": [],
   "source": []
  }
 ],
 "metadata": {
  "kernelspec": {
   "display_name": "Python 3 (ipykernel)",
   "language": "python",
   "name": "python3"
  },
  "language_info": {
   "codemirror_mode": {
    "name": "ipython",
    "version": 3
   },
   "file_extension": ".py",
   "mimetype": "text/x-python",
   "name": "python",
   "nbconvert_exporter": "python",
   "pygments_lexer": "ipython3",
   "version": "3.9.7"
  }
 },
 "nbformat": 4,
 "nbformat_minor": 5
}
